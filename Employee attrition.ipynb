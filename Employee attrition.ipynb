{
 "cells": [
  {
   "cell_type": "markdown",
   "id": "9b7b658e",
   "metadata": {},
   "source": [
    "# Part I - (Flisc Company)\n",
    "### by (Adebayo Moses)\n",
    "\n",
    "## Introduction\n",
    "> This document explores a dataset containing factors contributing to employee attrition.\n",
    "\n"
   ]
  },
  {
   "cell_type": "markdown",
   "id": "fae98532",
   "metadata": {},
   "source": [
    "### Limitation\n",
    "\n",
    "* There was no information on the data such as the identifiers.\n",
    "\n",
    "* Insufficient data to look at the other factor contributing to employee attrition?"
   ]
  },
  {
   "cell_type": "code",
   "execution_count": 23,
   "id": "de461fc0",
   "metadata": {},
   "outputs": [],
   "source": [
    "# Import the packages needed\n",
    "\n",
    "import numpy as np\n",
    "import pandas as pd\n",
    "import matplotlib.pyplot as plt\n",
    "import seaborn as sb\n",
    "\n",
    "%matplotlib inline"
   ]
  },
  {
   "cell_type": "code",
   "execution_count": 24,
   "id": "11a6a518",
   "metadata": {},
   "outputs": [],
   "source": [
    "# Creating a function for wrangling and data cleaning\n",
    "\n",
    "def wrangle(link):\n",
    "    df = pd.read_csv(link)\n",
    "    \n",
    "    # sort to employee with attrition\n",
    "    mask_apt = df[\"Attrition\"] == \"Yes\"\n",
    "    \n",
    "    # subset\n",
    "    df = df[mask_apt]\n",
    "    \n",
    "    df.drop(columns=[\"EmployeeCount\",\"Over18\",\"DailyRate\", \"HourlyRate\", \"MonthlyRate\",\n",
    "                          \"StandardHours\", \"StockOptionLevel\", \"TrainingTimesLastYear\",\"YearsInCurrentRole\",\n",
    "                    \"YearsSinceLastPromotion\", \"MaritalStatus\", \"Gender\", \"DistanceFromHome\",\n",
    "                    \"JobInvolvement\", \"JobLevel\"], inplace = True)\n",
    "    \n",
    "    \n",
    "    return df\n",
    "    \n",
    "    "
   ]
  },
  {
   "cell_type": "code",
   "execution_count": 25,
   "id": "d99ef3fa",
   "metadata": {},
   "outputs": [
    {
     "data": {
      "text/html": [
       "<div>\n",
       "<style scoped>\n",
       "    .dataframe tbody tr th:only-of-type {\n",
       "        vertical-align: middle;\n",
       "    }\n",
       "\n",
       "    .dataframe tbody tr th {\n",
       "        vertical-align: top;\n",
       "    }\n",
       "\n",
       "    .dataframe thead th {\n",
       "        text-align: right;\n",
       "    }\n",
       "</style>\n",
       "<table border=\"1\" class=\"dataframe\">\n",
       "  <thead>\n",
       "    <tr style=\"text-align: right;\">\n",
       "      <th></th>\n",
       "      <th>id</th>\n",
       "      <th>Age</th>\n",
       "      <th>Attrition</th>\n",
       "      <th>BusinessTravel</th>\n",
       "      <th>Department</th>\n",
       "      <th>Education</th>\n",
       "      <th>EducationField</th>\n",
       "      <th>EmployeeNumber</th>\n",
       "      <th>EnvironmentSatisfaction</th>\n",
       "      <th>JobRole</th>\n",
       "      <th>...</th>\n",
       "      <th>MonthlyIncome</th>\n",
       "      <th>NumCompaniesWorked</th>\n",
       "      <th>OverTime</th>\n",
       "      <th>PercentSalaryHike</th>\n",
       "      <th>PerformanceRating</th>\n",
       "      <th>RelationshipSatisfaction</th>\n",
       "      <th>TotalWorkingYears</th>\n",
       "      <th>WorkLifeBalance</th>\n",
       "      <th>YearsAtCompany</th>\n",
       "      <th>YearsWithCurrManager</th>\n",
       "    </tr>\n",
       "  </thead>\n",
       "  <tbody>\n",
       "    <tr>\n",
       "      <th>0</th>\n",
       "      <td>1</td>\n",
       "      <td>41</td>\n",
       "      <td>Yes</td>\n",
       "      <td>Travel_Rarely</td>\n",
       "      <td>Sales</td>\n",
       "      <td>2</td>\n",
       "      <td>Life Sciences</td>\n",
       "      <td>1</td>\n",
       "      <td>2</td>\n",
       "      <td>Sales Executive</td>\n",
       "      <td>...</td>\n",
       "      <td>5993</td>\n",
       "      <td>8</td>\n",
       "      <td>Yes</td>\n",
       "      <td>11</td>\n",
       "      <td>3</td>\n",
       "      <td>1</td>\n",
       "      <td>8</td>\n",
       "      <td>1</td>\n",
       "      <td>6</td>\n",
       "      <td>5</td>\n",
       "    </tr>\n",
       "    <tr>\n",
       "      <th>2</th>\n",
       "      <td>3</td>\n",
       "      <td>37</td>\n",
       "      <td>Yes</td>\n",
       "      <td>Travel_Rarely</td>\n",
       "      <td>Research &amp; Development</td>\n",
       "      <td>2</td>\n",
       "      <td>Other</td>\n",
       "      <td>4</td>\n",
       "      <td>4</td>\n",
       "      <td>Laboratory Technician</td>\n",
       "      <td>...</td>\n",
       "      <td>2090</td>\n",
       "      <td>6</td>\n",
       "      <td>Yes</td>\n",
       "      <td>15</td>\n",
       "      <td>3</td>\n",
       "      <td>2</td>\n",
       "      <td>7</td>\n",
       "      <td>3</td>\n",
       "      <td>0</td>\n",
       "      <td>0</td>\n",
       "    </tr>\n",
       "    <tr>\n",
       "      <th>14</th>\n",
       "      <td>15</td>\n",
       "      <td>28</td>\n",
       "      <td>Yes</td>\n",
       "      <td>Travel_Rarely</td>\n",
       "      <td>Research &amp; Development</td>\n",
       "      <td>3</td>\n",
       "      <td>Life Sciences</td>\n",
       "      <td>19</td>\n",
       "      <td>3</td>\n",
       "      <td>Laboratory Technician</td>\n",
       "      <td>...</td>\n",
       "      <td>2028</td>\n",
       "      <td>5</td>\n",
       "      <td>Yes</td>\n",
       "      <td>14</td>\n",
       "      <td>3</td>\n",
       "      <td>2</td>\n",
       "      <td>6</td>\n",
       "      <td>3</td>\n",
       "      <td>4</td>\n",
       "      <td>3</td>\n",
       "    </tr>\n",
       "    <tr>\n",
       "      <th>21</th>\n",
       "      <td>22</td>\n",
       "      <td>36</td>\n",
       "      <td>Yes</td>\n",
       "      <td>Travel_Rarely</td>\n",
       "      <td>Sales</td>\n",
       "      <td>4</td>\n",
       "      <td>Life Sciences</td>\n",
       "      <td>27</td>\n",
       "      <td>3</td>\n",
       "      <td>Sales Representative</td>\n",
       "      <td>...</td>\n",
       "      <td>3407</td>\n",
       "      <td>7</td>\n",
       "      <td>No</td>\n",
       "      <td>23</td>\n",
       "      <td>4</td>\n",
       "      <td>2</td>\n",
       "      <td>10</td>\n",
       "      <td>3</td>\n",
       "      <td>5</td>\n",
       "      <td>3</td>\n",
       "    </tr>\n",
       "    <tr>\n",
       "      <th>24</th>\n",
       "      <td>25</td>\n",
       "      <td>34</td>\n",
       "      <td>Yes</td>\n",
       "      <td>Travel_Rarely</td>\n",
       "      <td>Research &amp; Development</td>\n",
       "      <td>1</td>\n",
       "      <td>Medical</td>\n",
       "      <td>31</td>\n",
       "      <td>2</td>\n",
       "      <td>Research Scientist</td>\n",
       "      <td>...</td>\n",
       "      <td>2960</td>\n",
       "      <td>2</td>\n",
       "      <td>No</td>\n",
       "      <td>11</td>\n",
       "      <td>3</td>\n",
       "      <td>3</td>\n",
       "      <td>8</td>\n",
       "      <td>3</td>\n",
       "      <td>4</td>\n",
       "      <td>3</td>\n",
       "    </tr>\n",
       "    <tr>\n",
       "      <th>26</th>\n",
       "      <td>27</td>\n",
       "      <td>32</td>\n",
       "      <td>Yes</td>\n",
       "      <td>Travel_Frequently</td>\n",
       "      <td>Research &amp; Development</td>\n",
       "      <td>1</td>\n",
       "      <td>Life Sciences</td>\n",
       "      <td>33</td>\n",
       "      <td>2</td>\n",
       "      <td>Research Scientist</td>\n",
       "      <td>...</td>\n",
       "      <td>3919</td>\n",
       "      <td>1</td>\n",
       "      <td>Yes</td>\n",
       "      <td>22</td>\n",
       "      <td>4</td>\n",
       "      <td>2</td>\n",
       "      <td>10</td>\n",
       "      <td>3</td>\n",
       "      <td>10</td>\n",
       "      <td>7</td>\n",
       "    </tr>\n",
       "    <tr>\n",
       "      <th>33</th>\n",
       "      <td>34</td>\n",
       "      <td>39</td>\n",
       "      <td>Yes</td>\n",
       "      <td>Travel_Rarely</td>\n",
       "      <td>Sales</td>\n",
       "      <td>3</td>\n",
       "      <td>Technical Degree</td>\n",
       "      <td>42</td>\n",
       "      <td>4</td>\n",
       "      <td>Sales Representative</td>\n",
       "      <td>...</td>\n",
       "      <td>2086</td>\n",
       "      <td>3</td>\n",
       "      <td>No</td>\n",
       "      <td>14</td>\n",
       "      <td>3</td>\n",
       "      <td>3</td>\n",
       "      <td>19</td>\n",
       "      <td>4</td>\n",
       "      <td>1</td>\n",
       "      <td>0</td>\n",
       "    </tr>\n",
       "    <tr>\n",
       "      <th>34</th>\n",
       "      <td>35</td>\n",
       "      <td>24</td>\n",
       "      <td>Yes</td>\n",
       "      <td>Travel_Rarely</td>\n",
       "      <td>Research &amp; Development</td>\n",
       "      <td>3</td>\n",
       "      <td>Medical</td>\n",
       "      <td>45</td>\n",
       "      <td>2</td>\n",
       "      <td>Research Scientist</td>\n",
       "      <td>...</td>\n",
       "      <td>2293</td>\n",
       "      <td>2</td>\n",
       "      <td>Yes</td>\n",
       "      <td>16</td>\n",
       "      <td>3</td>\n",
       "      <td>1</td>\n",
       "      <td>6</td>\n",
       "      <td>2</td>\n",
       "      <td>2</td>\n",
       "      <td>0</td>\n",
       "    </tr>\n",
       "    <tr>\n",
       "      <th>36</th>\n",
       "      <td>37</td>\n",
       "      <td>50</td>\n",
       "      <td>Yes</td>\n",
       "      <td>Travel_Rarely</td>\n",
       "      <td>Sales</td>\n",
       "      <td>2</td>\n",
       "      <td>Marketing</td>\n",
       "      <td>47</td>\n",
       "      <td>1</td>\n",
       "      <td>Sales Representative</td>\n",
       "      <td>...</td>\n",
       "      <td>2683</td>\n",
       "      <td>1</td>\n",
       "      <td>Yes</td>\n",
       "      <td>14</td>\n",
       "      <td>3</td>\n",
       "      <td>3</td>\n",
       "      <td>3</td>\n",
       "      <td>3</td>\n",
       "      <td>3</td>\n",
       "      <td>2</td>\n",
       "    </tr>\n",
       "    <tr>\n",
       "      <th>42</th>\n",
       "      <td>43</td>\n",
       "      <td>26</td>\n",
       "      <td>Yes</td>\n",
       "      <td>Travel_Rarely</td>\n",
       "      <td>Research &amp; Development</td>\n",
       "      <td>3</td>\n",
       "      <td>Life Sciences</td>\n",
       "      <td>55</td>\n",
       "      <td>1</td>\n",
       "      <td>Laboratory Technician</td>\n",
       "      <td>...</td>\n",
       "      <td>2293</td>\n",
       "      <td>1</td>\n",
       "      <td>No</td>\n",
       "      <td>12</td>\n",
       "      <td>3</td>\n",
       "      <td>3</td>\n",
       "      <td>1</td>\n",
       "      <td>2</td>\n",
       "      <td>1</td>\n",
       "      <td>1</td>\n",
       "    </tr>\n",
       "  </tbody>\n",
       "</table>\n",
       "<p>10 rows × 21 columns</p>\n",
       "</div>"
      ],
      "text/plain": [
       "    id  Age Attrition     BusinessTravel              Department  Education  \\\n",
       "0    1   41       Yes      Travel_Rarely                   Sales          2   \n",
       "2    3   37       Yes      Travel_Rarely  Research & Development          2   \n",
       "14  15   28       Yes      Travel_Rarely  Research & Development          3   \n",
       "21  22   36       Yes      Travel_Rarely                   Sales          4   \n",
       "24  25   34       Yes      Travel_Rarely  Research & Development          1   \n",
       "26  27   32       Yes  Travel_Frequently  Research & Development          1   \n",
       "33  34   39       Yes      Travel_Rarely                   Sales          3   \n",
       "34  35   24       Yes      Travel_Rarely  Research & Development          3   \n",
       "36  37   50       Yes      Travel_Rarely                   Sales          2   \n",
       "42  43   26       Yes      Travel_Rarely  Research & Development          3   \n",
       "\n",
       "      EducationField  EmployeeNumber  EnvironmentSatisfaction  \\\n",
       "0      Life Sciences               1                        2   \n",
       "2              Other               4                        4   \n",
       "14     Life Sciences              19                        3   \n",
       "21     Life Sciences              27                        3   \n",
       "24           Medical              31                        2   \n",
       "26     Life Sciences              33                        2   \n",
       "33  Technical Degree              42                        4   \n",
       "34           Medical              45                        2   \n",
       "36         Marketing              47                        1   \n",
       "42     Life Sciences              55                        1   \n",
       "\n",
       "                  JobRole  ...  MonthlyIncome  NumCompaniesWorked  OverTime  \\\n",
       "0         Sales Executive  ...           5993                   8       Yes   \n",
       "2   Laboratory Technician  ...           2090                   6       Yes   \n",
       "14  Laboratory Technician  ...           2028                   5       Yes   \n",
       "21   Sales Representative  ...           3407                   7        No   \n",
       "24     Research Scientist  ...           2960                   2        No   \n",
       "26     Research Scientist  ...           3919                   1       Yes   \n",
       "33   Sales Representative  ...           2086                   3        No   \n",
       "34     Research Scientist  ...           2293                   2       Yes   \n",
       "36   Sales Representative  ...           2683                   1       Yes   \n",
       "42  Laboratory Technician  ...           2293                   1        No   \n",
       "\n",
       "   PercentSalaryHike  PerformanceRating  RelationshipSatisfaction  \\\n",
       "0                 11                  3                         1   \n",
       "2                 15                  3                         2   \n",
       "14                14                  3                         2   \n",
       "21                23                  4                         2   \n",
       "24                11                  3                         3   \n",
       "26                22                  4                         2   \n",
       "33                14                  3                         3   \n",
       "34                16                  3                         1   \n",
       "36                14                  3                         3   \n",
       "42                12                  3                         3   \n",
       "\n",
       "    TotalWorkingYears  WorkLifeBalance  YearsAtCompany  YearsWithCurrManager  \n",
       "0                   8                1               6                     5  \n",
       "2                   7                3               0                     0  \n",
       "14                  6                3               4                     3  \n",
       "21                 10                3               5                     3  \n",
       "24                  8                3               4                     3  \n",
       "26                 10                3              10                     7  \n",
       "33                 19                4               1                     0  \n",
       "34                  6                2               2                     0  \n",
       "36                  3                3               3                     2  \n",
       "42                  1                2               1                     1  \n",
       "\n",
       "[10 rows x 21 columns]"
      ]
     },
     "execution_count": 25,
     "metadata": {},
     "output_type": "execute_result"
    }
   ],
   "source": [
    "# loading of the data\n",
    "\n",
    "df = wrangle(\"attrition_records.csv\")\n",
    "df.head(10)"
   ]
  },
  {
   "cell_type": "markdown",
   "id": "a09b185f",
   "metadata": {},
   "source": [
    "### ANALYSIS and VISUALIZATION"
   ]
  },
  {
   "cell_type": "markdown",
   "id": "8c239175",
   "metadata": {},
   "source": [
    "#### Descriptive Analysis"
   ]
  },
  {
   "cell_type": "code",
   "execution_count": 27,
   "id": "86807465",
   "metadata": {},
   "outputs": [
    {
     "data": {
      "text/html": [
       "<div>\n",
       "<style scoped>\n",
       "    .dataframe tbody tr th:only-of-type {\n",
       "        vertical-align: middle;\n",
       "    }\n",
       "\n",
       "    .dataframe tbody tr th {\n",
       "        vertical-align: top;\n",
       "    }\n",
       "\n",
       "    .dataframe thead th {\n",
       "        text-align: right;\n",
       "    }\n",
       "</style>\n",
       "<table border=\"1\" class=\"dataframe\">\n",
       "  <thead>\n",
       "    <tr style=\"text-align: right;\">\n",
       "      <th></th>\n",
       "      <th>id</th>\n",
       "      <th>Age</th>\n",
       "      <th>Education</th>\n",
       "      <th>EmployeeNumber</th>\n",
       "      <th>EnvironmentSatisfaction</th>\n",
       "      <th>JobSatisfaction</th>\n",
       "      <th>MonthlyIncome</th>\n",
       "      <th>NumCompaniesWorked</th>\n",
       "      <th>PercentSalaryHike</th>\n",
       "      <th>PerformanceRating</th>\n",
       "      <th>RelationshipSatisfaction</th>\n",
       "      <th>TotalWorkingYears</th>\n",
       "      <th>WorkLifeBalance</th>\n",
       "      <th>YearsAtCompany</th>\n",
       "      <th>YearsWithCurrManager</th>\n",
       "    </tr>\n",
       "  </thead>\n",
       "  <tbody>\n",
       "    <tr>\n",
       "      <th>count</th>\n",
       "      <td>237.000000</td>\n",
       "      <td>237.000000</td>\n",
       "      <td>237.000000</td>\n",
       "      <td>237.000000</td>\n",
       "      <td>237.000000</td>\n",
       "      <td>237.000000</td>\n",
       "      <td>237.000000</td>\n",
       "      <td>237.000000</td>\n",
       "      <td>237.000000</td>\n",
       "      <td>237.000000</td>\n",
       "      <td>237.000000</td>\n",
       "      <td>237.000000</td>\n",
       "      <td>237.000000</td>\n",
       "      <td>237.000000</td>\n",
       "      <td>237.000000</td>\n",
       "    </tr>\n",
       "    <tr>\n",
       "      <th>mean</th>\n",
       "      <td>725.464135</td>\n",
       "      <td>33.607595</td>\n",
       "      <td>2.839662</td>\n",
       "      <td>1010.345992</td>\n",
       "      <td>2.464135</td>\n",
       "      <td>2.468354</td>\n",
       "      <td>4787.092827</td>\n",
       "      <td>2.940928</td>\n",
       "      <td>15.097046</td>\n",
       "      <td>3.156118</td>\n",
       "      <td>2.599156</td>\n",
       "      <td>8.244726</td>\n",
       "      <td>2.658228</td>\n",
       "      <td>5.130802</td>\n",
       "      <td>2.852321</td>\n",
       "    </tr>\n",
       "    <tr>\n",
       "      <th>std</th>\n",
       "      <td>409.742866</td>\n",
       "      <td>9.689350</td>\n",
       "      <td>1.008244</td>\n",
       "      <td>580.750572</td>\n",
       "      <td>1.169791</td>\n",
       "      <td>1.118058</td>\n",
       "      <td>3640.210367</td>\n",
       "      <td>2.678519</td>\n",
       "      <td>3.770294</td>\n",
       "      <td>0.363735</td>\n",
       "      <td>1.125437</td>\n",
       "      <td>7.169204</td>\n",
       "      <td>0.816453</td>\n",
       "      <td>5.949984</td>\n",
       "      <td>3.143349</td>\n",
       "    </tr>\n",
       "    <tr>\n",
       "      <th>min</th>\n",
       "      <td>1.000000</td>\n",
       "      <td>18.000000</td>\n",
       "      <td>1.000000</td>\n",
       "      <td>1.000000</td>\n",
       "      <td>1.000000</td>\n",
       "      <td>1.000000</td>\n",
       "      <td>1009.000000</td>\n",
       "      <td>0.000000</td>\n",
       "      <td>11.000000</td>\n",
       "      <td>3.000000</td>\n",
       "      <td>1.000000</td>\n",
       "      <td>0.000000</td>\n",
       "      <td>1.000000</td>\n",
       "      <td>0.000000</td>\n",
       "      <td>0.000000</td>\n",
       "    </tr>\n",
       "    <tr>\n",
       "      <th>25%</th>\n",
       "      <td>386.000000</td>\n",
       "      <td>28.000000</td>\n",
       "      <td>2.000000</td>\n",
       "      <td>514.000000</td>\n",
       "      <td>1.000000</td>\n",
       "      <td>1.000000</td>\n",
       "      <td>2373.000000</td>\n",
       "      <td>1.000000</td>\n",
       "      <td>12.000000</td>\n",
       "      <td>3.000000</td>\n",
       "      <td>2.000000</td>\n",
       "      <td>3.000000</td>\n",
       "      <td>2.000000</td>\n",
       "      <td>1.000000</td>\n",
       "      <td>0.000000</td>\n",
       "    </tr>\n",
       "    <tr>\n",
       "      <th>50%</th>\n",
       "      <td>733.000000</td>\n",
       "      <td>32.000000</td>\n",
       "      <td>3.000000</td>\n",
       "      <td>1017.000000</td>\n",
       "      <td>3.000000</td>\n",
       "      <td>3.000000</td>\n",
       "      <td>3202.000000</td>\n",
       "      <td>1.000000</td>\n",
       "      <td>14.000000</td>\n",
       "      <td>3.000000</td>\n",
       "      <td>3.000000</td>\n",
       "      <td>7.000000</td>\n",
       "      <td>3.000000</td>\n",
       "      <td>3.000000</td>\n",
       "      <td>2.000000</td>\n",
       "    </tr>\n",
       "    <tr>\n",
       "      <th>75%</th>\n",
       "      <td>1057.000000</td>\n",
       "      <td>39.000000</td>\n",
       "      <td>4.000000</td>\n",
       "      <td>1486.000000</td>\n",
       "      <td>4.000000</td>\n",
       "      <td>3.000000</td>\n",
       "      <td>5916.000000</td>\n",
       "      <td>5.000000</td>\n",
       "      <td>17.000000</td>\n",
       "      <td>3.000000</td>\n",
       "      <td>4.000000</td>\n",
       "      <td>10.000000</td>\n",
       "      <td>3.000000</td>\n",
       "      <td>7.000000</td>\n",
       "      <td>5.000000</td>\n",
       "    </tr>\n",
       "    <tr>\n",
       "      <th>max</th>\n",
       "      <td>1462.000000</td>\n",
       "      <td>58.000000</td>\n",
       "      <td>5.000000</td>\n",
       "      <td>2055.000000</td>\n",
       "      <td>4.000000</td>\n",
       "      <td>4.000000</td>\n",
       "      <td>19859.000000</td>\n",
       "      <td>9.000000</td>\n",
       "      <td>25.000000</td>\n",
       "      <td>4.000000</td>\n",
       "      <td>4.000000</td>\n",
       "      <td>40.000000</td>\n",
       "      <td>4.000000</td>\n",
       "      <td>40.000000</td>\n",
       "      <td>14.000000</td>\n",
       "    </tr>\n",
       "  </tbody>\n",
       "</table>\n",
       "</div>"
      ],
      "text/plain": [
       "                id         Age   Education  EmployeeNumber  \\\n",
       "count   237.000000  237.000000  237.000000      237.000000   \n",
       "mean    725.464135   33.607595    2.839662     1010.345992   \n",
       "std     409.742866    9.689350    1.008244      580.750572   \n",
       "min       1.000000   18.000000    1.000000        1.000000   \n",
       "25%     386.000000   28.000000    2.000000      514.000000   \n",
       "50%     733.000000   32.000000    3.000000     1017.000000   \n",
       "75%    1057.000000   39.000000    4.000000     1486.000000   \n",
       "max    1462.000000   58.000000    5.000000     2055.000000   \n",
       "\n",
       "       EnvironmentSatisfaction  JobSatisfaction  MonthlyIncome  \\\n",
       "count               237.000000       237.000000     237.000000   \n",
       "mean                  2.464135         2.468354    4787.092827   \n",
       "std                   1.169791         1.118058    3640.210367   \n",
       "min                   1.000000         1.000000    1009.000000   \n",
       "25%                   1.000000         1.000000    2373.000000   \n",
       "50%                   3.000000         3.000000    3202.000000   \n",
       "75%                   4.000000         3.000000    5916.000000   \n",
       "max                   4.000000         4.000000   19859.000000   \n",
       "\n",
       "       NumCompaniesWorked  PercentSalaryHike  PerformanceRating  \\\n",
       "count          237.000000         237.000000         237.000000   \n",
       "mean             2.940928          15.097046           3.156118   \n",
       "std              2.678519           3.770294           0.363735   \n",
       "min              0.000000          11.000000           3.000000   \n",
       "25%              1.000000          12.000000           3.000000   \n",
       "50%              1.000000          14.000000           3.000000   \n",
       "75%              5.000000          17.000000           3.000000   \n",
       "max              9.000000          25.000000           4.000000   \n",
       "\n",
       "       RelationshipSatisfaction  TotalWorkingYears  WorkLifeBalance  \\\n",
       "count                237.000000         237.000000       237.000000   \n",
       "mean                   2.599156           8.244726         2.658228   \n",
       "std                    1.125437           7.169204         0.816453   \n",
       "min                    1.000000           0.000000         1.000000   \n",
       "25%                    2.000000           3.000000         2.000000   \n",
       "50%                    3.000000           7.000000         3.000000   \n",
       "75%                    4.000000          10.000000         3.000000   \n",
       "max                    4.000000          40.000000         4.000000   \n",
       "\n",
       "       YearsAtCompany  YearsWithCurrManager  \n",
       "count      237.000000            237.000000  \n",
       "mean         5.130802              2.852321  \n",
       "std          5.949984              3.143349  \n",
       "min          0.000000              0.000000  \n",
       "25%          1.000000              0.000000  \n",
       "50%          3.000000              2.000000  \n",
       "75%          7.000000              5.000000  \n",
       "max         40.000000             14.000000  "
      ]
     },
     "execution_count": 27,
     "metadata": {},
     "output_type": "execute_result"
    }
   ],
   "source": [
    "# Descriptive Analysis\n",
    "\n",
    "df.describe()"
   ]
  },
  {
   "cell_type": "markdown",
   "id": "1f126e9d",
   "metadata": {},
   "source": [
    "### Question 1: What are the 3 factors behind employee attrition?\n",
    "\n",
    "#### Monthly Income, Environment Satisfaction, and Percent Salary Hike."
   ]
  },
  {
   "cell_type": "code",
   "execution_count": 8,
   "id": "73cd7357",
   "metadata": {},
   "outputs": [
    {
     "data": {
      "image/png": "[encoded data removed]",
      "text/plain": [
       "<Figure size 432x288 with 1 Axes>"
      ]
     },
     "metadata": {
      "needs_background": "light"
     },
     "output_type": "display_data"
    }
   ],
   "source": [
    "# histogram plot of the distrubtion of monthly income of employee with attrition.\n",
    "\n",
    "plt.hist(data=df, x=\"MonthlyIncome\")\n",
    "plt.xlabel(\"Monthly Income\")\n",
    "plt.title(\"Distribution of Monthly Income of Employee With Attrition\");"
   ]
  },
  {
   "cell_type": "markdown",
   "id": "4cdc1eb9",
   "metadata": {},
   "source": [
    "The distribution shows that employee with monthly income below $3,000 leaves the company more compare to other emplyess paid with a higher amount than that.\n"
   ]
  },
  {
   "cell_type": "code",
   "execution_count": 9,
   "id": "b7f57dee",
   "metadata": {},
   "outputs": [
    {
     "data": {
      "image/png": "[encoded data removed]",
      "text/plain": [
       "<Figure size 432x288 with 1 Axes>"
      ]
     },
     "metadata": {
      "needs_background": "light"
     },
     "output_type": "display_data"
    }
   ],
   "source": [
    "# Histogram plot of the Percent distrubtion of Salary Hike of employee with attrition.\n",
    "\n",
    "plt.hist(data=df, x=\"PercentSalaryHike\")\n",
    "plt.xlabel(\"Percent Salary Hike\")\n",
    "plt.title(\"Percent distrubtion of Salary Hike of employee with attrition\");"
   ]
  },
  {
   "cell_type": "markdown",
   "id": "04068659",
   "metadata": {},
   "source": [
    "The distribution shows that employee with below 15% Salary Hike leaves the company more compare to other employess with a Salary Hike of above 16%."
   ]
  },
  {
   "cell_type": "code",
   "execution_count": 10,
   "id": "b75e5e31",
   "metadata": {},
   "outputs": [
    {
     "data": {
      "image/png": "[encoded data removed]",
      "text/plain": [
       "<Figure size 432x288 with 1 Axes>"
      ]
     },
     "metadata": {
      "needs_background": "light"
     },
     "output_type": "display_data"
    }
   ],
   "source": [
    "# Count Plot of Environmental Satisfaction\n",
    "\n",
    "sb.countplot(data= df, x='EnvironmentSatisfaction', color=sb.color_palette()[0]);"
   ]
  },
  {
   "cell_type": "markdown",
   "id": "af12344c",
   "metadata": {},
   "source": [
    "The plot shows that are employee less satisfied with the Environment tend to leave the company more compare to thers."
   ]
  },
  {
   "cell_type": "markdown",
   "id": "58f6acb7",
   "metadata": {},
   "source": [
    "### Question 2:  What is the relationship between Education and Monthly Income"
   ]
  },
  {
   "cell_type": "code",
   "execution_count": 11,
   "id": "9c562bc9",
   "metadata": {},
   "outputs": [
    {
     "data": {
      "text/plain": [
       "0.10516218012435051"
      ]
     },
     "execution_count": 11,
     "metadata": {},
     "output_type": "execute_result"
    },
    {
     "data": {
      "image/png": "[encoded data removed]",
      "text/plain": [
       "<Figure size 432x288 with 1 Axes>"
      ]
     },
     "metadata": {
      "needs_background": "light"
     },
     "output_type": "display_data"
    }
   ],
   "source": [
    "#  the relationship between Education and Monthly Income\n",
    "\n",
    "plt.scatter(data=df, x= \"Education\" , y= \"MonthlyIncome\")\n",
    "plt.xlabel(\"Education\")\n",
    "plt.ylabel(\"Monthly Income\")\n",
    "plt.title(\"The relationship between Education and Monthly Income\");\n",
    "corr = np.corrcoef(y=df[\"MonthlyIncome\"] , x= df[\"Education\"])[0, 1]\n",
    "corr"
   ]
  },
  {
   "cell_type": "code",
   "execution_count": null,
   "id": "cfa92dcd",
   "metadata": {},
   "outputs": [],
   "source": []
  },
  {
   "cell_type": "markdown",
   "id": "baa5a3f7",
   "metadata": {},
   "source": [
    "### Question 3: What is the effect of age on attrition?"
   ]
  },
  {
   "cell_type": "code",
   "execution_count": 19,
   "id": "9ced5012",
   "metadata": {
    "scrolled": true
   },
   "outputs": [
    {
     "data": {
      "image/png": "[encoded data removed]",
      "text/plain": [
       "<Figure size 432x288 with 1 Axes>"
      ]
     },
     "metadata": {
      "needs_background": "light"
     },
     "output_type": "display_data"
    }
   ],
   "source": [
    "# Hist PLot of age\n",
    "\n",
    "plt.hist(data=df, x=\"Age\")\n",
    "plt.xlabel(\"Age\")\n",
    "plt.ylabel(\"Count\")\n",
    "plt.title(\"Age Distribution\");"
   ]
  },
  {
   "cell_type": "markdown",
   "id": "9a5fa3f7",
   "metadata": {},
   "source": [
    "The graph shows that majority of the employee with attrition are between 25 to 35 years old."
   ]
  },
  {
   "cell_type": "markdown",
   "id": "86bd9ce4",
   "metadata": {},
   "source": [
    "### Question 4: Is Income the main factor in employee attrition?"
   ]
  },
  {
   "cell_type": "code",
   "execution_count": 14,
   "id": "38f8d205",
   "metadata": {
    "scrolled": true
   },
   "outputs": [
    {
     "data": {
      "image/png": "[encoded data removed]",
      "text/plain": [
       "<Figure size 432x288 with 1 Axes>"
      ]
     },
     "metadata": {
      "needs_background": "light"
     },
     "output_type": "display_data"
    }
   ],
   "source": [
    "# histogram plot of the distrubtion of monthly income of employee with attrition.\n",
    "\n",
    "plt.hist(data=df, x=\"MonthlyIncome\")\n",
    "plt.xlabel(\"Monthly Income\")\n",
    "plt.title(\"Distribution of Monthly Income of Employee With Attrition\");"
   ]
  },
  {
   "cell_type": "markdown",
   "id": "0f29fd74",
   "metadata": {},
   "source": [
    "The plot shows that employee that earns less than $3,000 tends to leave the job compare to employees that earns more."
   ]
  },
  {
   "cell_type": "markdown",
   "id": "5860a796",
   "metadata": {},
   "source": [
    "### Question 5: How does work-life balance impact the overall attrition rate?"
   ]
  },
  {
   "cell_type": "code",
   "execution_count": 20,
   "id": "5c88b665",
   "metadata": {},
   "outputs": [
    {
     "data": {
      "image/png": "[encoded data removed]",
      "text/plain": [
       "<Figure size 432x288 with 1 Axes>"
      ]
     },
     "metadata": {
      "needs_background": "light"
     },
     "output_type": "display_data"
    }
   ],
   "source": [
    "\n",
    "\n",
    "sb.countplot(data=df, x=\"WorkLifeBalance\", color=sb.color_palette()[0]);"
   ]
  },
  {
   "cell_type": "code",
   "execution_count": null,
   "id": "30dd0876",
   "metadata": {},
   "outputs": [],
   "source": []
  },
  {
   "cell_type": "markdown",
   "id": "5709547f",
   "metadata": {},
   "source": [
    "### Conclusion"
   ]
  },
  {
   "cell_type": "markdown",
   "id": "389b7ba0",
   "metadata": {},
   "source": [
    "FBased on the visualization analysis, several key insights have been identified:\n",
    "\n",
    "* Employees with a monthly income below $3,000 exhibit a higher tendency to leave the company compared to those with higher earnings..\n",
    "\n",
    "\n",
    "* Employees receiving a salary increment below 15% are more likely to leave compared to those with a hike above 16%.\n",
    "\n",
    "\n",
    "* Job dissatisfaction with the work environment significantly contributes to employee attrition.\n",
    "\n",
    "\n",
    "* The majority of employees experiencing attrition fall within the age range of 25 to 35 years.\n",
    "\n",
    "\n",
    "* Employees earning less than $3,000 are more prone to leaving their jobs compared to higher-earning counterparts.\n",
    "\n"
   ]
  },
  {
   "cell_type": "markdown",
   "id": "5de08848",
   "metadata": {},
   "source": [
    "### Recommendation"
   ]
  },
  {
   "cell_type": "markdown",
   "id": "f66a84f7",
   "metadata": {},
   "source": [
    "In order to enhance employee retention and achieve the company's goal of minimizing costs and maximizing profits, it is recommended to consider the following:

Create a conducive work environment to improve overall job satisfaction.

Implement employment contracts of at least 5 years for new hires to foster stability.

Offer competitive salaries and consider meaningful salary increments to attract and retain valuable employees."
   ]
  }
 ],
 "metadata": {
  "kernelspec": {
   "display_name": "Python 3 (ipykernel)",
   "language": "python",
   "name": "python3"
  },
  "language_info": {
   "codemirror_mode": {
    "name": "ipython",
    "version": 3
   },
   "file_extension": ".py",
   "mimetype": "text/x-python",
   "name": "python",
   "nbconvert_exporter": "python",
   "pygments_lexer": "ipython3",
   "version": "3.9.7"
  }
 },
 "nbformat": 4,
 "nbformat_minor": 5
}
